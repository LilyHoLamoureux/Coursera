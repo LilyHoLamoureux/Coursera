{
 "cells": [
  {
   "cell_type": "markdown",
   "metadata": {},
   "source": [
    "# Capstone Project - The Battle of Neighborhoods"
   ]
  },
  {
   "cell_type": "markdown",
   "metadata": {},
   "source": [
    "## Table of contents\n",
    "* [Introduction Business Problem](#introduction)\n",
    "* [Data](#data)\n",
    "* [Methodology](#methodology)\n",
    "* [Analysis](#analysis)\n",
    "* [Results and Discussion](#results)\n",
    "* [Conclusion](#conclusion)"
   ]
  },
  {
   "cell_type": "markdown",
   "metadata": {},
   "source": [
    "## Introduction: Business Problem<a name=\"introduction\"></a>\n",
    "*A description of the problem and a discussion of the background. (15 marks)*"
   ]
  },
  {
   "cell_type": "markdown",
   "metadata": {},
   "source": [
    "### Background"
   ]
  },
  {
   "cell_type": "markdown",
   "metadata": {},
   "source": [
    "Ottawa, Ontario has a limited variety of Asian cuisines compared cities like Toronto and Vancouver. Currently, there are total of 66 Asian cuisines \"registered\" with Foursquare [1]. Ottawa is mainly dominated by Asian, Thai, Chinese and Vietnamese Restaurants. \n",
    "\n",
    "<img src=\images\AsianRest.jpg\">\n",
    "\n",
    "The rating (out of 10) for these restaurants are not very high.\n",
    "\n",
    "<img src=\"Documents\\Coursera - IBM data science\\capstone\\workbook\\AsianRest_AvgRate.jpg\">\n",
    "\n",
    "The overall average rating for Asian cuisine is 6.2. \n"
   ]
  },
  {
   "cell_type": "markdown",
   "metadata": {},
   "source": [
    "> [1] _For the scope of the capstone course, only restaurants found in the Foursquare DB will be used._"
   ]
  },
  {
   "cell_type": "markdown",
   "metadata": {},
   "source": [
    "### Business Problem"
   ]
  },
  {
   "cell_type": "markdown",
   "metadata": {},
   "source": [
    "With the growing Asian community, there is craving for good Asian restaurants.\n",
    "Ann, the client, just moved to Ottawa and is looking to open an Asian restaurant.\n",
    "Where should Ann open her Asian restaurant?"
   ]
  },
  {
   "cell_type": "markdown",
   "metadata": {},
   "source": [
    "## Data section<a name=\"data\"></a>\n",
    "*A description of the data and how it will be used to solve the problem. (15 marks)*"
   ]
  },
  {
   "cell_type": "markdown",
   "metadata": {},
   "source": [
    "In order for Ann to make an informed decision to where she should open her restaurant, we need to gather some data to determine where the current Asian restaurants are located and population data. Ideally, Ann would like to open her restaurant in a highly populated area with the most Asians with low Asian restaurant competition.\n",
    "\n",
    "1.Ottawa restaurant information will be gathered from Foursquare.\n",
    "* Data gathered: Venue ID, Venue Name, Address, Geo Coordinates, Venue Category\n",
    "* This data will be used to illustrate where the restaurants are located in Ottawa.\n",
    "\n",
    "2.\"Asian restaurants\" are defined as Noodle House, Chinese, Sushi, Vietnamese, Thai, Asian, Japanse, Korean categories.\n",
    "* Subset of Ottawa restaurants.\n",
    "* Specific venue data gathered: Venue ID, Ratings, Stats,Price, Likes.\n",
    "* This data will be used to group similar venues together to get a better idea of the Asian restaurants in Ottawa.\n",
    "\n",
    "3.Ottawa Population data (http://data.ottawa.ca/group/demographics).\n",
    "* Population data by neighbourhood.\n",
    "* This data will be used to help determine the neighbourhoods with the highest population density.\n",
    "\n",
    "3a.Asian Population data by ward (http://data.ottawa.ca/group/demographics).\n",
    "* Unfortunately, there were not data by neighbourhood.\n",
    "* This data will be used to determine the areas in Ottawa where there is the highest Asian population"
   ]
  },
  {
   "cell_type": "markdown",
   "metadata": {},
   "source": [
    "##  Methodology<a name=\"methodology\"></a>"
   ]
  },
  {
   "cell_type": "markdown",
   "metadata": {},
   "source": [
    "\n",
    "The Methodology section will describe the main components of our analysis and predication system. The Methodology section comprises four stages:\n",
    "\n",
    "1. Collect Inspection Data\n",
    "2. Explore and Understand Data\n",
    "3. Data preparation and preprocessing \n",
    "4. Modeling\n",
    "\n"
   ]
  }
 ],
 "metadata": {
  "kernelspec": {
   "display_name": "Python 3",
   "language": "python",
   "name": "python3"
  },
  "language_info": {
   "codemirror_mode": {
    "name": "ipython",
    "version": 3
   },
   "file_extension": ".py",
   "mimetype": "text/x-python",
   "name": "python",
   "nbconvert_exporter": "python",
   "pygments_lexer": "ipython3",
   "version": "3.7.3"
  }
 },
 "nbformat": 4,
 "nbformat_minor": 2
}
